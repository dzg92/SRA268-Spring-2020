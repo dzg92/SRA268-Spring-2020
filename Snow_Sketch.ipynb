{
  "nbformat": 4,
  "nbformat_minor": 0,
  "metadata": {
    "colab": {
      "name": "Snow Sketch",
      "provenance": [],
      "toc_visible": true,
      "authorship_tag": "ABX9TyPu/jePYiljSpeJ+r0tlGWB",
      "include_colab_link": true
    },
    "kernelspec": {
      "name": "python3",
      "display_name": "Python 3"
    }
  },
  "cells": [
    {
      "cell_type": "markdown",
      "metadata": {
        "id": "view-in-github",
        "colab_type": "text"
      },
      "source": [
        "<a href=\"https://colab.research.google.com/github/dzg92/SRA268-Spring-2020/blob/master/Snow_Sketch.ipynb\" target=\"_parent\"><img src=\"https://colab.research.google.com/assets/colab-badge.svg\" alt=\"Open In Colab\"/></a>"
      ]
    },
    {
      "cell_type": "code",
      "metadata": {
        "id": "pCfFc8Uz5xSk",
        "colab_type": "code",
        "colab": {}
      },
      "source": [
        "### First Google Notebook\n",
        "\n"
      ],
      "execution_count": 0,
      "outputs": []
    },
    {
      "cell_type": "markdown",
      "metadata": {
        "id": "LshQUMnh5zXl",
        "colab_type": "text"
      },
      "source": [
        "# introduction "
      ]
    },
    {
      "cell_type": "markdown",
      "metadata": {
        "id": "eqbb6vcs51-t",
        "colab_type": "text"
      },
      "source": [
        "Precipitation can be seen in a variety of ways through charts, sketches, as well as, different types of graphs. Through the use of modern technology we can use interactive models to display changes in a wide variety of data. In this sketch we can observe the different levels of precipation seen throughout state college and when those changes occur. "
      ]
    },
    {
      "cell_type": "markdown",
      "metadata": {
        "id": "rQZy-ybG6Wfy",
        "colab_type": "text"
      },
      "source": [
        "# Conclusion"
      ]
    },
    {
      "cell_type": "markdown",
      "metadata": {
        "id": "Tft7YiA-6aLq",
        "colab_type": "text"
      },
      "source": [
        "In conclusion it is event that State College goes through a wide variety of changes in terms of its precipitation. As the graph started compared to how it ended there was an overall increase then decrease in the amount of precipitation seen. The use of the sketch shows this through the sudden spike of precipitation. "
      ]
    },
    {
      "cell_type": "markdown",
      "metadata": {
        "id": "4ppm72z_6B8u",
        "colab_type": "text"
      },
      "source": [
        "![Penn State](https://github.com/dzg92/SRA268-Spring-2020/blob/master/penn%20state.jpg)\n"
      ]
    }
  ]
}